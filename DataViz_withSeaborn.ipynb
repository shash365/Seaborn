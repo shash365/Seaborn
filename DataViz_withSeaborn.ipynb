import pandas as pd
import numpy as np

import matplotlib
import matplotlib.pyplot as plt

import sklearn
from sklearn.linear_model import LinearRegression

import warnings
warnings.filterwarnings("ignore")

import seaborn as sns

%matplotlib inline
